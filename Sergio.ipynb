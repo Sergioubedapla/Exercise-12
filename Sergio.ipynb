{
 "cells": [
  {
   "cell_type": "markdown",
   "id": "d6d8b83a-3aaf-4330-a4f6-f234d1d6e8ea",
   "metadata": {},
   "source": [
    "# Data Science Tools and Ecosystem"
   ]
  },
  {
   "cell_type": "markdown",
   "id": "a23b97d0-b4fc-4f9c-9c69-8461ad2a906f",
   "metadata": {},
   "source": [
    "#In this notebook, Data Science Tools and Ecosystem are summarized"
   ]
  },
  {
   "cell_type": "markdown",
   "id": "f66e7816-6a96-4ba6-acc9-6deadc754db6",
   "metadata": {},
   "source": [
    "**Objectives:**\n",
    "\n",
    "1. Python\n",
    "2. C\n",
    "3. C++\n",
    "4. Java"
   ]
  },
  {
   "cell_type": "markdown",
   "id": "ad6cdf9f-71c7-4056-8e05-b4b88f22f46e",
   "metadata": {},
   "source": [
    "#Some of the popular languages that Data Science use are:\n",
    "\n",
    "1. Python\n",
    "2. C\n",
    "3. C++\n",
    "4. Java"
   ]
  },
  {
   "cell_type": "markdown",
   "id": "16f3d4df-b422-4fa4-95fd-ed09f3511573",
   "metadata": {},
   "source": [
    "Some of the commonly libraries used by Data Science include:\n",
    "\n",
    "1. Numpy\n",
    "2. Pandas\n",
    "3. Matplotlib"
   ]
  },
  {
   "cell_type": "markdown",
   "id": "d1cc7ca6-c0fa-4c2e-8921-2ce0f9e1187b",
   "metadata": {},
   "source": [
    "| Data Science Tools |\n",
    "| ------------------- |\n",
    "| RStudio |\n",
    "| TensorFlow |\n",
    "| Tableau |"
   ]
  },
  {
   "cell_type": "markdown",
   "id": "900c2f46-ec58-4a85-a35c-43b581b16103",
   "metadata": {},
   "source": [
    "### Below are a example of evaluating arithmetic expressions in Python\n",
    "x+y\n",
    "\n",
    "x*y\n",
    "\n",
    "x/y\n"
   ]
  },
  {
   "cell_type": "code",
   "execution_count": 23,
   "id": "5822c109-1012-480c-882f-f911bbf778a7",
   "metadata": {},
   "outputs": [
    {
     "data": {
      "text/plain": [
       "17"
      ]
     },
     "execution_count": 23,
     "metadata": {},
     "output_type": "execute_result"
    }
   ],
   "source": [
    "# This a simple arithmetic expression to mutiply\n",
    "\n",
    "(3*4)+5"
   ]
  },
  {
   "cell_type": "code",
   "execution_count": 37,
   "id": "8a9a7deb-2573-4ff9-8814-5760a462e9a2",
   "metadata": {},
   "outputs": [
    {
     "data": {
      "text/plain": [
       "3.3333333333333335"
      ]
     },
     "execution_count": 37,
     "metadata": {},
     "output_type": "execute_result"
    }
   ],
   "source": [
    "# This will convert 200 minutes to hours by diving by 60\n",
    "\n",
    "x = 200\n",
    "\n",
    "x/60"
   ]
  },
  {
   "cell_type": "markdown",
   "id": "75ec8eda-d125-4173-8157-621675fccb96",
   "metadata": {},
   "source": [
    "## Autor\n",
    "\n",
    "Sergio Ubeda Pla"
   ]
  },
  {
   "cell_type": "code",
   "execution_count": null,
   "id": "07ccecb0-506d-449b-be00-fa7faa9fb392",
   "metadata": {},
   "outputs": [],
   "source": []
  }
 ],
 "metadata": {
  "kernelspec": {
   "display_name": "Python 3 (ipykernel)",
   "language": "python",
   "name": "python3"
  },
  "language_info": {
   "codemirror_mode": {
    "name": "ipython",
    "version": 3
   },
   "file_extension": ".py",
   "mimetype": "text/x-python",
   "name": "python",
   "nbconvert_exporter": "python",
   "pygments_lexer": "ipython3",
   "version": "3.12.4"
  }
 },
 "nbformat": 4,
 "nbformat_minor": 5
}
